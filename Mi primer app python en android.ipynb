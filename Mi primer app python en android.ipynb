{
 "cells": [
  {
   "cell_type": "code",
   "execution_count": 4,
   "metadata": {},
   "outputs": [],
   "source": [
    "import sys"
   ]
  },
  {
   "cell_type": "code",
   "execution_count": 3,
   "metadata": {
    "collapsed": true
   },
   "outputs": [
    {
     "data": {
      "text/plain": [
       "['',\n",
       " 'C:\\\\Users\\\\gerardo\\\\Anaconda2\\\\python27.zip',\n",
       " 'C:\\\\Users\\\\gerardo\\\\Anaconda2\\\\DLLs',\n",
       " 'C:\\\\Users\\\\gerardo\\\\Anaconda2\\\\lib',\n",
       " 'C:\\\\Users\\\\gerardo\\\\Anaconda2\\\\lib\\\\plat-win',\n",
       " 'C:\\\\Users\\\\gerardo\\\\Anaconda2\\\\lib\\\\lib-tk',\n",
       " 'C:\\\\Users\\\\gerardo\\\\Anaconda2',\n",
       " 'C:\\\\Users\\\\gerardo\\\\Anaconda2\\\\lib\\\\site-packages',\n",
       " 'C:\\\\Users\\\\gerardo\\\\Anaconda2\\\\lib\\\\site-packages\\\\win32',\n",
       " 'C:\\\\Users\\\\gerardo\\\\Anaconda2\\\\lib\\\\site-packages\\\\win32\\\\lib',\n",
       " 'C:\\\\Users\\\\gerardo\\\\Anaconda2\\\\lib\\\\site-packages\\\\Pythonwin',\n",
       " 'C:\\\\Users\\\\gerardo\\\\Anaconda2\\\\lib\\\\site-packages\\\\pywinpty-0.5-py2.7-win-amd64.egg',\n",
       " 'C:\\\\Users\\\\gerardo\\\\Anaconda2\\\\lib\\\\site-packages\\\\IPython\\\\extensions',\n",
       " 'C:\\\\Users\\\\gerardo\\\\.ipython']"
      ]
     },
     "execution_count": 3,
     "metadata": {},
     "output_type": "execute_result"
    }
   ],
   "source": [
    "sys.path"
   ]
  },
  {
   "cell_type": "code",
   "execution_count": 5,
   "metadata": {},
   "outputs": [],
   "source": [
    "import android"
   ]
  },
  {
   "cell_type": "code",
   "execution_count": 6,
   "metadata": {},
   "outputs": [],
   "source": [
    "droide = android.Android ()"
   ]
  },
  {
   "cell_type": "code",
   "execution_count": 7,
   "metadata": {},
   "outputs": [
    {
     "data": {
      "text/plain": [
       "<android.Android at 0x8a77588>"
      ]
     },
     "execution_count": 7,
     "metadata": {},
     "output_type": "execute_result"
    }
   ],
   "source": [
    "droide"
   ]
  },
  {
   "cell_type": "code",
   "execution_count": 8,
   "metadata": {},
   "outputs": [
    {
     "data": {
      "text/plain": [
       "0"
      ]
     },
     "execution_count": 8,
     "metadata": {},
     "output_type": "execute_result"
    }
   ],
   "source": [
    "droide.id"
   ]
  },
  {
   "cell_type": "code",
   "execution_count": 9,
   "metadata": {},
   "outputs": [
    {
     "data": {
      "text/plain": [
       "Result(id=0, result=None, error=None)"
      ]
     },
     "execution_count": 9,
     "metadata": {},
     "output_type": "execute_result"
    }
   ],
   "source": [
    "droide.makeToast(\"Texto cualquiera\")"
   ]
  },
  {
   "cell_type": "code",
   "execution_count": 10,
   "metadata": {},
   "outputs": [
    {
     "ename": "SyntaxError",
     "evalue": "invalid syntax (<ipython-input-10-4f71df294212>, line 2)",
     "output_type": "error",
     "traceback": [
      "\u001b[1;36m  File \u001b[1;32m\"<ipython-input-10-4f71df294212>\"\u001b[1;36m, line \u001b[1;32m2\u001b[0m\n\u001b[1;33m    droide.vibrate 2000\u001b[0m\n\u001b[1;37m                      ^\u001b[0m\n\u001b[1;31mSyntaxError\u001b[0m\u001b[1;31m:\u001b[0m invalid syntax\n"
     ]
    }
   ],
   "source": [
    "# Comentario\n",
    "droide.vibrate 2000"
   ]
  },
  {
   "cell_type": "code",
   "execution_count": 11,
   "metadata": {},
   "outputs": [
    {
     "data": {
      "text/plain": [
       "Result(id=1, result=None, error=None)"
      ]
     },
     "execution_count": 11,
     "metadata": {},
     "output_type": "execute_result"
    }
   ],
   "source": [
    "droide.vibrate(2000)"
   ]
  },
  {
   "cell_type": "code",
   "execution_count": 12,
   "metadata": {},
   "outputs": [
    {
     "data": {
      "text/plain": [
       "Result(id=3, result=None, error=None)"
      ]
     },
     "execution_count": 12,
     "metadata": {},
     "output_type": "execute_result"
    }
   ],
   "source": [
    "droide.notify(\"hola\",\"esta es una notificacion\")"
   ]
  },
  {
   "cell_type": "code",
   "execution_count": 12,
   "metadata": {},
   "outputs": [
    {
     "name": "stdout",
     "output_type": "stream",
     "text": [
      "com.googlecode.android_scripting.rpc.RpcError: Unknown RPC.\n"
     ]
    },
    {
     "data": {
      "text/plain": [
       "Result(id=2, result=None, error=u'com.googlecode.android_scripting.rpc.RpcError: Unknown RPC.')"
      ]
     },
     "execution_count": 12,
     "metadata": {},
     "output_type": "execute_result"
    }
   ],
   "source": [
    "droide.makesSpeaker(\"Hola\")"
   ]
  },
  {
   "cell_type": "code",
   "execution_count": 14,
   "metadata": {},
   "outputs": [
    {
     "data": {
      "text/plain": [
       "Result(id=4, result=None, error=None)"
      ]
     },
     "execution_count": 14,
     "metadata": {},
     "output_type": "execute_result"
    }
   ],
   "source": [
    "droide.ttsSpeak(\"hola\")"
   ]
  },
  {
   "cell_type": "code",
   "execution_count": 39,
   "metadata": {},
   "outputs": [
    {
     "name": "stdout",
     "output_type": "stream",
     "text": [
      "0\n",
      "1\n",
      "par\n",
      "2\n",
      "3\n",
      "par\n",
      "4\n",
      "5\n",
      "par\n",
      "6\n",
      "7\n",
      "par\n",
      "8\n",
      "9\n",
      "par\n"
     ]
    }
   ],
   "source": [
    "import time\n",
    "i=0\n",
    "while i < 10:\n",
    "    #droide.vibrate(200)\n",
    "    #print \"now\", time.time()\n",
    "    print i\n",
    "    time.sleep(1)\n",
    "    i=i+1\n",
    "    if i%2==0:\n",
    "        print(\"par\")\n",
    "        #droide.vibrate(200)\n",
    "        droide.makeToast(\"par\")"
   ]
  },
  {
   "cell_type": "code",
   "execution_count": 40,
   "metadata": {},
   "outputs": [
    {
     "name": "stdout",
     "output_type": "stream",
     "text": [
      "{u'bearing': 0, u'altitude': 0, u'provider': u'network', u'longitude': -96.8656202, u'time': 1521056946555L, u'latitude': 19.5279269, u'speed': 0, u'accuracy': 21.84600067138672}\n",
      "13:49\n"
     ]
    }
   ],
   "source": [
    "loc = droide.getLastKnownLocation().result\n",
    "if loc[\"gps\"] is not None:\n",
    "    loc=loc[\"gps\"]\n",
    "else:\n",
    "    loc = loc[\"network\"]\n",
    "lat=loc[\"latitude\"]\n",
    "lon=loc[\"longitude\"]\n",
    "time = loc[\"time\"]\n",
    "print loc\n",
    "import datetime\n",
    "hora = datetime.datetime.fromtimestamp(time/1e3).strftime('%H:%M')\n",
    "print hora\n",
    "#print lon\n",
    "direccion = droide.geocode(lat,lon)\n",
    "cp=direccion.result[0][\"postal_code\"]\n",
    "cc = direccion.result[0][\"country_code\"]\n",
    "#calle = direccion.result[0][\"thoroughfare\"]\n",
    "ciudad = direccion.result[0][\"sub_admin_area\"]"
   ]
  },
  {
   "cell_type": "code",
   "execution_count": 36,
   "metadata": {},
   "outputs": [
    {
     "data": {
      "text/plain": [
       "Result(id=18, result=[{u'locality': u'Centro', u'sub_admin_area': u'Xalapa', u'admin_area': u'Veracruz', u'feature_name': u'Tulipanes de la Animas', u'country_code': u'MX', u'country_name': u'M\\xe9xico', u'postal_code': u'91190'}], error=None)"
      ]
     },
     "execution_count": 36,
     "metadata": {},
     "output_type": "execute_result"
    }
   ],
   "source": [
    "droide.geocode(lat,lon)"
   ]
  },
  {
   "cell_type": "code",
   "execution_count": 41,
   "metadata": {},
   "outputs": [
    {
     "name": "stdout",
     "output_type": "stream",
     "text": [
      "91190\n",
      "MX\n",
      "Xalapa\n"
     ]
    }
   ],
   "source": [
    "print cp\n",
    "print cc\n",
    "#print calle\n",
    "print ciudad"
   ]
  },
  {
   "cell_type": "code",
   "execution_count": 21,
   "metadata": {},
   "outputs": [],
   "source": [
    "url=\"http://api.openweathermap.org/data/2.5/weather?zip={0},{1}&APPID=dfeea5e604e1948b28652216ad910d11\".format(cp,cc)"
   ]
  },
  {
   "cell_type": "code",
   "execution_count": 22,
   "metadata": {},
   "outputs": [
    {
     "data": {
      "text/plain": [
       "'http://api.openweathermap.org/data/2.5/weather?zip=91190,MX&APPID=dfeea5e604e1948b28652216ad910d11'"
      ]
     },
     "execution_count": 22,
     "metadata": {},
     "output_type": "execute_result"
    }
   ],
   "source": [
    "url"
   ]
  },
  {
   "cell_type": "code",
   "execution_count": 23,
   "metadata": {},
   "outputs": [],
   "source": [
    "import requests\n",
    "r=requests.get(url).json()"
   ]
  },
  {
   "cell_type": "code",
   "execution_count": 24,
   "metadata": {},
   "outputs": [
    {
     "data": {
      "text/plain": [
       "{u'base': u'stations',\n",
       " u'clouds': {u'all': 64},\n",
       " u'cod': 200,\n",
       " u'coord': {u'lat': 19.31, u'lon': -96.96},\n",
       " u'dt': 1521053487,\n",
       " u'id': 0,\n",
       " u'main': {u'grnd_level': 795.01,\n",
       "  u'humidity': 82,\n",
       "  u'pressure': 795.01,\n",
       "  u'sea_level': 1033.06,\n",
       "  u'temp': 287.902,\n",
       "  u'temp_max': 287.902,\n",
       "  u'temp_min': 287.902},\n",
       " u'name': u'Las Flores',\n",
       " u'rain': {u'3h': 0.19},\n",
       " u'sys': {u'country': u'MX',\n",
       "  u'message': 0.0038,\n",
       "  u'sunrise': 1521030974,\n",
       "  u'sunset': 1521074249},\n",
       " u'weather': [{u'description': u'light rain',\n",
       "   u'icon': u'10d',\n",
       "   u'id': 500,\n",
       "   u'main': u'Rain'}],\n",
       " u'wind': {u'deg': 94.0009, u'speed': 1.51}}"
      ]
     },
     "execution_count": 24,
     "metadata": {},
     "output_type": "execute_result"
    }
   ],
   "source": [
    "r"
   ]
  },
  {
   "cell_type": "code",
   "execution_count": 25,
   "metadata": {},
   "outputs": [],
   "source": [
    "wdesc=r[\"weather\"][0]['description']"
   ]
  },
  {
   "cell_type": "code",
   "execution_count": 26,
   "metadata": {},
   "outputs": [
    {
     "name": "stdout",
     "output_type": "stream",
     "text": [
      "light rain\n"
     ]
    }
   ],
   "source": [
    "print wdesc"
   ]
  },
  {
   "cell_type": "code",
   "execution_count": 42,
   "metadata": {},
   "outputs": [
    {
     "name": "stdout",
     "output_type": "stream",
     "text": [
      "Xalapa\n",
      "13:49\n",
      "light rain\n",
      "En la ciudad de Xalapa siendo las 13:49 el estado del tiempo es light rain\n"
     ]
    }
   ],
   "source": [
    "#mensaje=\"En la ciudad de {0}, siendo las {1} horas, en la calle de {2}, el estado del tiempo es {3}\".format(ciudad,date,calle,wdesc)\n",
    "#import time\n",
    "#import datetime\n",
    "#now = datetime.datetime.now()\n",
    "#hactual = datetime.time(now.hour, now.minute)\n",
    "#print calle\n",
    "print ciudad\n",
    "print hora\n",
    "print wdesc\n",
    "cadena = \"En la ciudad de \" + ciudad + \" siendo las \" + hora + \" el estado del tiempo es \" + wdesc\n",
    "#cadena = \"En la ciudad de \" + ciudad + \" siendo las \" + hactual + \" en la calle de \" + calle + \" el estado del tiempo es \" + wdesc\n",
    "print cadena"
   ]
  },
  {
   "cell_type": "code",
   "execution_count": 43,
   "metadata": {},
   "outputs": [
    {
     "data": {
      "text/plain": [
       "Result(id=27, result=None, error=None)"
      ]
     },
     "execution_count": 43,
     "metadata": {},
     "output_type": "execute_result"
    }
   ],
   "source": [
    "droide.ttsSpeak(cadena)"
   ]
  },
  {
   "cell_type": "code",
   "execution_count": null,
   "metadata": {},
   "outputs": [],
   "source": []
  }
 ],
 "metadata": {
  "kernelspec": {
   "display_name": "Python 2",
   "language": "python",
   "name": "python2"
  },
  "language_info": {
   "codemirror_mode": {
    "name": "ipython",
    "version": 2
   },
   "file_extension": ".py",
   "mimetype": "text/x-python",
   "name": "python",
   "nbconvert_exporter": "python",
   "pygments_lexer": "ipython2",
   "version": "2.7.14"
  }
 },
 "nbformat": 4,
 "nbformat_minor": 2
}
